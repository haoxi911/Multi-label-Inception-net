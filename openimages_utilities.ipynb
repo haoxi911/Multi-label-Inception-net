{
 "cells": [
  {
   "cell_type": "code",
   "execution_count": null,
   "metadata": {},
   "outputs": [],
   "source": [
    "# Code to create label files for all openimagesv4 images. All the labels will be\n",
    "# saved in a 'labels' folder inside the image folder.\n",
    " \n",
    "import os\n",
    "import csv\n",
    "import shutil\n",
    "\n",
    "LABEL_INFO = {\n",
    "    # '../openimages_v4/train-annotations-human-imagelabels-boxable.csv': '../openimages_v4/train',\n",
    "    '../openimages_v4/validation-annotations-human-imagelabels-boxable.csv': '../openimages_v4/validation',\n",
    "    '../openimages_v4/test-annotations-human-imagelabels-boxable.csv': '../openimages_v4/test'\n",
    "}\n",
    "\n",
    "def _create_label_files(csvfile, imagefolder):\n",
    "    \n",
    "    # create label dictionary\n",
    "    labels = {}\n",
    "    with open(csvfile, mode='r') as infile:\n",
    "        reader = csv.reader(infile)\n",
    "        firstRow = True\n",
    "        for rows in reader:\n",
    "            if firstRow: # ignore first row\n",
    "                firstRow = False\n",
    "                continue\n",
    "            if rows[3] != '1': # ignore negative labels\n",
    "                continue    \n",
    "            labels.setdefault(rows[0], []).append(rows[2])\n",
    "    print ('Positive labels: %d' % len(labels))\n",
    "    \n",
    "    # labels will be saved to a separate folder\n",
    "    outfolder = os.path.join(imagefolder, 'labels')\n",
    "    if os.path.exists(outfolder):\n",
    "        shutil.rmtree(outfolder)\n",
    "    os.makedirs(outfolder)\n",
    "\n",
    "    # loop through all images\n",
    "    images = [x for x in os.listdir(imagefolder) if os.path.isfile(os.path.join(imagefolder, x))]\n",
    "    for index, image in enumerate(images):\n",
    "        name = os.path.splitext(image)[0] # name without extension\n",
    "        if name in labels:\n",
    "            with open(os.path.join(outfolder, image + '.txt'), mode='wb') as outfile:\n",
    "                for label in labels[name]:\n",
    "                    outfile.write(label + '\\n')        \n",
    "        if index % 10000 == 0:\n",
    "            print ('Progress: %d' % index)\n",
    "    print ('Progress: %d' % len(images))\n",
    "\n",
    "\n",
    "for csvfile, imagefolder in LABEL_INFO.iteritems():\n",
    "    _create_label_files(csvfile, imagefolder)\n",
    "print ('Done.')"
   ]
  },
  {
   "cell_type": "code",
   "execution_count": null,
   "metadata": {},
   "outputs": [],
   "source": []
  }
 ],
 "metadata": {
  "kernelspec": {
   "display_name": "jupyter-ipy2",
   "language": "python",
   "name": "my_jupyter_ipy2"
  },
  "language_info": {
   "codemirror_mode": {
    "name": "ipython",
    "version": 2
   },
   "file_extension": ".py",
   "mimetype": "text/x-python",
   "name": "python",
   "nbconvert_exporter": "python",
   "pygments_lexer": "ipython2",
   "version": "2.7.12"
  }
 },
 "nbformat": 4,
 "nbformat_minor": 2
}
