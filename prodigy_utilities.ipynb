{
 "cells": [
  {
   "cell_type": "code",
   "execution_count": 33,
   "metadata": {
    "scrolled": true
   },
   "outputs": [
    {
     "name": "stdout",
     "output_type": "stream",
     "text": [
      "Accept: 22084\n",
      "Reject: 6812\n",
      "Ignore: 157\n"
     ]
    }
   ],
   "source": [
    "# Process the jsonl file exported by Prodigy's db-out command\n",
    "# and split the original file list into 3 different lists.\n",
    "\n",
    "import json\n",
    "\n",
    "# modify this line.\n",
    "PRODIGY_JSONL = './output_dnd_29k.jsonl'\n",
    "\n",
    "summary = {}\n",
    "with open(PRODIGY_JSONL) as f:\n",
    "    lines = f.readlines()\n",
    "for line in lines:\n",
    "    data = json.loads(line)\n",
    "    summary.setdefault(data['answer'], set()).add(data['image'].split('/')[-1]) \n",
    "\n",
    "print('Accept: %d' % len(summary['accept']))\n",
    "print('Reject: %d' % len(summary['reject']))\n",
    "print('Ignore: %d' % len(summary['ignore']))\n"
   ]
  },
  {
   "cell_type": "code",
   "execution_count": 34,
   "metadata": {},
   "outputs": [
    {
     "name": "stdout",
     "output_type": "stream",
     "text": [
      "Done.\n"
     ]
    }
   ],
   "source": [
    "# Copy all the accepted images into a new folder.\n",
    "\n",
    "import os\n",
    "import shutil\n",
    "\n",
    "# modify these lines.\n",
    "IMAGE_SRC = './output_dnd/dog'\n",
    "IMAGE_DST = './output_dnd_accepted/dog'\n",
    "\n",
    "if os.path.exists(IMAGE_DST):\n",
    "    shutil.rmtree(IMAGE_DST)\n",
    "os.makedirs(IMAGE_DST)\n",
    "\n",
    "for img in summary['accept']:\n",
    "    image = os.path.join(IMAGE_SRC, img)\n",
    "    if os.path.exists(image):\n",
    "        shutil.copy(image, IMAGE_DST)\n",
    "    else:\n",
    "        print ('Image not found: %s' % image)\n",
    "    \n",
    "print ('Done.')"
   ]
  },
  {
   "cell_type": "code",
   "execution_count": null,
   "metadata": {},
   "outputs": [],
   "source": []
  }
 ],
 "metadata": {
  "kernelspec": {
   "display_name": "Python [conda env:tensorflow_p27]",
   "language": "python",
   "name": "conda-env-tensorflow_p27-py"
  },
  "language_info": {
   "codemirror_mode": {
    "name": "ipython",
    "version": 2
   },
   "file_extension": ".py",
   "mimetype": "text/x-python",
   "name": "python",
   "nbconvert_exporter": "python",
   "pygments_lexer": "ipython2",
   "version": "2.7.14"
  }
 },
 "nbformat": 4,
 "nbformat_minor": 2
}
